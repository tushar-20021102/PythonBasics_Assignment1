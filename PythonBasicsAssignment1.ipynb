{
  "nbformat": 4,
  "nbformat_minor": 0,
  "metadata": {
    "colab": {
      "provenance": []
    },
    "kernelspec": {
      "name": "python3",
      "display_name": "Python 3"
    },
    "language_info": {
      "name": "python"
    }
  },
  "cells": [
    {
      "cell_type": "markdown",
      "source": [
        "***Python Basics Questions***\n",
        "\n",
        "1. What is Python,and why is it popular?\n",
        "   - Python is a high-level, interpreted programming language known for its simplicity, readability, and versatility.\n",
        "It supports multiple programming paradigms and is widely used in web development, data science, automation, and AI.\n",
        "\n",
        "   - Python is popular because it’s easy to learn, has a clean syntax, and offers a vast library ecosystem.\n",
        "Its versatility allows it to be used in web development, data analysis, AI, automation, and more.\n",
        "\n",
        "2. What is an interpreter in Python?\n",
        "  - In Python, an interpreter is a program that executes code line by line, converting it into machine-readable instructions.\n",
        "It allows you to run Python programs directly without compiling them into a separate executable file.\n",
        "\n",
        "3. What are pre-defined keywords in Python?\n",
        "  - Pre-defined keywords in Python are reserved words that have special meanings and functions in the language’s syntax.\n",
        "They cannot be used as variable names or identifiers, such as `if`, `while`, `class`, and `import`.\n",
        "\n",
        "4. Can keywords be used as variable names?\n",
        "  - No — keywords cannot be used as variable names in Python.\n",
        "They are reserved by the language, and using them as identifiers will cause a SyntaxError.\n",
        "\n",
        "5. What is mutability in Python?\n",
        "  - Mutability in Python refers to an object’s ability to be changed after it is created.\n",
        "Mutable objects (like lists, dictionaries, sets) can be modified, while immutable ones (like strings, tuples) cannot.\n",
        "\n",
        "6. Why are lists mutable, but tuples are immutable?\n",
        "  - Lists are mutable because Python allows their elements to be changed, added, or removed after creation.\n",
        "Tuples are immutable to ensure data integrity and allow them to be used as fixed, hashable objects in structures like dictionaries.\n",
        "\n",
        "7. What is the difference between \"==\" and \"is\" operators in Python?\n",
        "  - In Python, `==` checks whether two objects have the same value, while `is` checks whether they are the same object in memory.\n",
        "Two different objects can be `==` but not `is` the same.\n",
        "\n",
        "8. What are the logical operators in Python?\n",
        "  - The logical operators in Python are `and`, `or`, and `not`.\n",
        "They are used to combine or invert boolean expressions for decision-making in programs.\n",
        "\n",
        "9. What is type casting in Python?\n",
        "  - Type casting in Python is the process of converting a value from one data type to another, such as from `int` to `float`.\n",
        "It can be done using built-in functions like `int()`, `float()`, `str()`, etc.\n",
        "\n",
        "10. What is the difference between implicit and explicit type casting?\n",
        "  - Implicit type casting (type conversion) is done automatically by Python when it safely converts one type to another.\n",
        "Explicit type casting is done manually by the programmer using functions like `int()`, `float()`, or `str()`.\n",
        "\n",
        "11. What is the purpose of conditional statements in python?\n",
        "  - Conditional statements in Python are used to execute specific blocks of code based on whether a condition is `True` or `False`.\n",
        "They help control the program’s flow using statements like `if`, `elif`, and `else`.\n",
        "\n",
        "12. How does the elif statement work?\n",
        "  - The `elif` statement in Python checks another condition if the previous `if` or `elif` condition was `False`.\n",
        "It allows multiple conditions to be tested sequentially until one evaluates to `True`.\n",
        "\n",
        "13. What is the difference between for and while loops?\n",
        "  - A `for` loop is used when you know the exact number of iterations or are iterating over a sequence.\n",
        "A `while` loop is used when you want to repeat a block of code until a condition becomes `False`.\n",
        "\n",
        "14. Describe a scenario where a while loop is more suitable than a for loop?\n",
        "  - A while loop is more suitable when the number of iterations is **unknown** and depends on a condition being met.\n",
        "\n",
        "For example: repeatedly asking a user for a correct password until they enter the right one — you don’t know in advance how many attempts they’ll need.\n",
        "\n",
        "\n",
        "\n"
      ],
      "metadata": {
        "id": "eVkUnOEYXL_s"
      }
    },
    {
      "cell_type": "code",
      "source": [
        "''' 1. Write a Python program to print \"Hello, World!\" '''\n",
        "\n",
        "# Program to print \"Hello, World!\"\n",
        "print(\"Hello, World!\")\n",
        "\n",
        "\n"
      ],
      "metadata": {
        "colab": {
          "base_uri": "https://localhost:8080/"
        },
        "id": "-DYHQV1XtPrO",
        "outputId": "6f31ab1b-00e7-4606-db05-53a5c5362c29"
      },
      "execution_count": 1,
      "outputs": [
        {
          "output_type": "stream",
          "name": "stdout",
          "text": [
            "Hello, World!\n"
          ]
        }
      ]
    },
    {
      "cell_type": "code",
      "source": [
        "''' 2. Write a Python program that displays your name and age.'''\n",
        "\n",
        "# Program to display name and age\n",
        "name = \"Tushar Debnath\"\n",
        "age = 21\n",
        "\n",
        "print(\"Name:\", name)\n",
        "print(\"Age:\", age)\n"
      ],
      "metadata": {
        "colab": {
          "base_uri": "https://localhost:8080/"
        },
        "id": "wGdsX_iqtwUV",
        "outputId": "fa474d8e-a7ea-429e-afa5-a4d786758d93"
      },
      "execution_count": 2,
      "outputs": [
        {
          "output_type": "stream",
          "name": "stdout",
          "text": [
            "Name: Tushar Debnath\n",
            "Age: 21\n"
          ]
        }
      ]
    },
    {
      "cell_type": "code",
      "source": [
        "''' 3. Write code to print all the pre-defined keywords in Python using the keyword libary.'''\n",
        "\n",
        "import keyword\n",
        "\n",
        "# Print all Python keywords\n",
        "print(\"Python Keywords:\")\n",
        "print(keyword.kwlist)\n"
      ],
      "metadata": {
        "colab": {
          "base_uri": "https://localhost:8080/"
        },
        "id": "zpKAVv-tuMFB",
        "outputId": "ec160c54-61ee-42cc-95cb-363dc7f46a08"
      },
      "execution_count": 3,
      "outputs": [
        {
          "output_type": "stream",
          "name": "stdout",
          "text": [
            "Python Keywords:\n",
            "['False', 'None', 'True', 'and', 'as', 'assert', 'async', 'await', 'break', 'class', 'continue', 'def', 'del', 'elif', 'else', 'except', 'finally', 'for', 'from', 'global', 'if', 'import', 'in', 'is', 'lambda', 'nonlocal', 'not', 'or', 'pass', 'raise', 'return', 'try', 'while', 'with', 'yield']\n"
          ]
        }
      ]
    },
    {
      "cell_type": "code",
      "source": [
        "''' 4. Write a program that checks if a given word is a Python keyword'''\n",
        "\n",
        "import keyword\n",
        "\n",
        "# Input word\n",
        "word = input(\"Enter a word: \")\n",
        "\n",
        "# Check if it's a Python keyword\n",
        "if keyword.iskeyword(word):\n",
        "    print(f\"'{word}' is a Python keyword.\")\n",
        "else:\n",
        "    print(f\"'{word}' is not a Python keyword.\")\n"
      ],
      "metadata": {
        "colab": {
          "base_uri": "https://localhost:8080/"
        },
        "id": "f3QCS-xquzVm",
        "outputId": "b4326678-53b7-4482-909e-bd8a4ddccbed"
      },
      "execution_count": 5,
      "outputs": [
        {
          "output_type": "stream",
          "name": "stdout",
          "text": [
            "Enter a word: import\n",
            "'import' is a Python keyword.\n"
          ]
        }
      ]
    },
    {
      "cell_type": "code",
      "source": [
        "''' 5. Create a list and tuple in Python, and demonstrate how attempting to change an element works differently for each.'''\n",
        "\n",
        "# Creating a list (mutable)\n",
        "my_list = [1, 2, 3]\n",
        "print(\"Original list:\", my_list)\n",
        "\n",
        "my_list[1] = 99  # Changing the second element\n",
        "print(\"Modified list:\", my_list)\n",
        "\n",
        "# Creating a tuple (immutable)\n",
        "my_tuple = (1, 2, 3)\n",
        "print(\"\\nOriginal tuple:\", my_tuple)\n",
        "\n",
        "# Attempting to change an element in tuple\n",
        "try:\n",
        "    my_tuple[1] = 99  # This will cause an error\n",
        "except TypeError as e:\n",
        "    print(\"Error:\", e)\n"
      ],
      "metadata": {
        "colab": {
          "base_uri": "https://localhost:8080/"
        },
        "id": "mP5u3rSaveeK",
        "outputId": "ea06e693-d4a4-4788-80e7-f648898467a4"
      },
      "execution_count": 6,
      "outputs": [
        {
          "output_type": "stream",
          "name": "stdout",
          "text": [
            "Original list: [1, 2, 3]\n",
            "Modified list: [1, 99, 3]\n",
            "\n",
            "Original tuple: (1, 2, 3)\n",
            "Error: 'tuple' object does not support item assignment\n"
          ]
        }
      ]
    },
    {
      "cell_type": "code",
      "source": [
        "''' 6. Write a function to demonstrate the behavior of mutable and immutable arguments.'''\n",
        "\n",
        "# Function to modify arguments\n",
        "def modify_data(num, my_list):\n",
        "    # Immutable change (int)\n",
        "    num += 10\n",
        "\n",
        "    # Mutable change (list)\n",
        "    my_list.append(99)\n",
        "\n",
        "    print(\"Inside function - num:\", num)\n",
        "    print(\"Inside function - list:\", my_list)\n",
        "\n",
        "# Immutable object (integer)\n",
        "x = 5\n",
        "\n",
        "# Mutable object (list)\n",
        "y = [1, 2, 3]\n",
        "\n",
        "print(\"Before function call - x:\", x)\n",
        "print(\"Before function call - y:\", y)\n",
        "\n",
        "modify_data(x, y)\n",
        "\n",
        "print(\"\\nAfter function call - x:\", x)  # Unchanged\n",
        "print(\"After function call - y:\", y)    # Changed\n"
      ],
      "metadata": {
        "colab": {
          "base_uri": "https://localhost:8080/"
        },
        "id": "fVUafaIswNV0",
        "outputId": "736284d7-8933-4277-831b-7ab3e6bac873"
      },
      "execution_count": 7,
      "outputs": [
        {
          "output_type": "stream",
          "name": "stdout",
          "text": [
            "Before function call - x: 5\n",
            "Before function call - y: [1, 2, 3]\n",
            "Inside function - num: 15\n",
            "Inside function - list: [1, 2, 3, 99]\n",
            "\n",
            "After function call - x: 5\n",
            "After function call - y: [1, 2, 3, 99]\n"
          ]
        }
      ]
    },
    {
      "cell_type": "code",
      "source": [
        "''' 7. Write a program that performs basic arithmetic operations on two user-input numbers.'''\n",
        "\n",
        "# Basic arithmetic operations on two numbers\n",
        "\n",
        "# Taking user input\n",
        "num1 = float(input(\"Enter first number: \"))\n",
        "num2 = float(input(\"Enter second number: \"))\n",
        "\n",
        "# Performing operations\n",
        "print(\"\\nResults:\")\n",
        "print(\"Addition:\", num1 + num2)\n",
        "print(\"Subtraction:\", num1 - num2)\n",
        "print(\"Multiplication:\", num1 * num2)\n",
        "\n",
        "# Check division by zero\n",
        "if num2 != 0:\n",
        "    print(\"Division:\", num1 / num2)\n",
        "else:\n",
        "    print(\"Division: Cannot divide by zero\")\n"
      ],
      "metadata": {
        "colab": {
          "base_uri": "https://localhost:8080/"
        },
        "id": "Dg4MUeNtxE7m",
        "outputId": "46b183b6-d125-4817-f787-9656785f2234"
      },
      "execution_count": 8,
      "outputs": [
        {
          "output_type": "stream",
          "name": "stdout",
          "text": [
            "Enter first number: 3\n",
            "Enter second number: 5\n",
            "\n",
            "Results:\n",
            "Addition: 8.0\n",
            "Subtraction: -2.0\n",
            "Multiplication: 15.0\n",
            "Division: 0.6\n"
          ]
        }
      ]
    },
    {
      "cell_type": "code",
      "source": [
        "''' 8. Write a program to demonstrate the use of logical operators.'''\n",
        "\n",
        "# Demonstrating logical operators\n",
        "\n",
        "a = True\n",
        "b = False\n",
        "\n",
        "print(\"a =\", a, \", b =\", b)\n",
        "\n",
        "# Logical AND\n",
        "print(\"a and b:\", a and b)\n",
        "\n",
        "# Logical OR\n",
        "print(\"a or b:\", a or b)\n",
        "\n",
        "# Logical NOT\n",
        "print(\"not a:\", not a)\n",
        "print(\"not b:\", not b)\n"
      ],
      "metadata": {
        "colab": {
          "base_uri": "https://localhost:8080/"
        },
        "id": "TgrdnwNax1n-",
        "outputId": "a8cc8462-b320-4042-cc22-4ba1db717d65"
      },
      "execution_count": 9,
      "outputs": [
        {
          "output_type": "stream",
          "name": "stdout",
          "text": [
            "a = True , b = False\n",
            "a and b: False\n",
            "a or b: True\n",
            "not a: False\n",
            "not b: True\n"
          ]
        }
      ]
    },
    {
      "cell_type": "code",
      "source": [
        "''' 9. Write a Python program to convert user input from string to integer, float, and boolean types.'''\n",
        "\n",
        "# Program to convert user input into different data types\n",
        "\n",
        "# Taking user input\n",
        "user_input = input(\"Enter a value: \")\n",
        "\n",
        "# Convert to integer\n",
        "try:\n",
        "    int_value = int(user_input)\n",
        "    print(\"As Integer:\", int_value)\n",
        "except ValueError:\n",
        "    print(\"Cannot convert to Integer.\")\n",
        "\n",
        "# Convert to float\n",
        "try:\n",
        "    float_value = float(user_input)\n",
        "    print(\"As Float:\", float_value)\n",
        "except ValueError:\n",
        "    print(\"Cannot convert to Float.\")\n",
        "\n",
        "# Convert to boolean\n",
        "bool_value = bool(user_input)  # Non-empty string becomes True\n",
        "print(\"As Boolean:\", bool_value)\n"
      ],
      "metadata": {
        "colab": {
          "base_uri": "https://localhost:8080/"
        },
        "id": "XwZXOZliyXNU",
        "outputId": "8c883fd5-7c99-4502-a29a-a96094586c73"
      },
      "execution_count": 10,
      "outputs": [
        {
          "output_type": "stream",
          "name": "stdout",
          "text": [
            "Enter a value: 5\n",
            "As Integer: 5\n",
            "As Float: 5.0\n",
            "As Boolean: True\n"
          ]
        }
      ]
    },
    {
      "cell_type": "code",
      "source": [
        "''' 10. Write code to demonstrate type casting with list elements.'''\n",
        "\n",
        "# List with string numbers\n",
        "str_list = [\"10\", \"20\", \"30\", \"40\"]\n",
        "\n",
        "print(\"Original list (strings):\", str_list)\n",
        "\n",
        "# Type casting each element to integer\n",
        "int_list = [int(x) for x in str_list]\n",
        "print(\"List after casting to integers:\", int_list)\n",
        "\n",
        "# Type casting each element to float\n",
        "float_list = [float(x) for x in str_list]\n",
        "print(\"List after casting to floats:\", float_list)\n",
        "\n"
      ],
      "metadata": {
        "colab": {
          "base_uri": "https://localhost:8080/"
        },
        "id": "q-AZX_LUzEbB",
        "outputId": "dae3d789-1a8a-49e1-9789-371c26081bb1"
      },
      "execution_count": 11,
      "outputs": [
        {
          "output_type": "stream",
          "name": "stdout",
          "text": [
            "Original list (strings): ['10', '20', '30', '40']\n",
            "List after casting to integers: [10, 20, 30, 40]\n",
            "List after casting to floats: [10.0, 20.0, 30.0, 40.0]\n"
          ]
        }
      ]
    },
    {
      "cell_type": "code",
      "source": [
        "''' 11. Write a program that checks if a number is positive, negative, or zero.'''\n",
        "\n",
        "# Program to check if a number is positive, negative, or zero\n",
        "\n",
        "num = float(input(\"Enter a number: \"))\n",
        "\n",
        "if num > 0:\n",
        "    print(\"The number is positive.\")\n",
        "elif num < 0:\n",
        "    print(\"The number is negative.\")\n",
        "else:\n",
        "    print(\"The number is zero.\")\n"
      ],
      "metadata": {
        "colab": {
          "base_uri": "https://localhost:8080/"
        },
        "id": "mwmZOqnmzl62",
        "outputId": "65898c7c-594c-4b54-81b4-368ef7bea5ba"
      },
      "execution_count": 14,
      "outputs": [
        {
          "output_type": "stream",
          "name": "stdout",
          "text": [
            "Enter a number: 0\n",
            "The number is zero.\n"
          ]
        }
      ]
    },
    {
      "cell_type": "code",
      "source": [
        "''' 12. Write a for loop to print numbers from 1 to 10.'''\n",
        "\n",
        "# For loop to print numbers from 1 to 10\n",
        "for i in range(1, 11):\n",
        "    print(i)\n"
      ],
      "metadata": {
        "colab": {
          "base_uri": "https://localhost:8080/"
        },
        "id": "o3r3QvNx0Ek3",
        "outputId": "34459337-e281-4d75-8710-79ca8d0d4270"
      },
      "execution_count": 15,
      "outputs": [
        {
          "output_type": "stream",
          "name": "stdout",
          "text": [
            "1\n",
            "2\n",
            "3\n",
            "4\n",
            "5\n",
            "6\n",
            "7\n",
            "8\n",
            "9\n",
            "10\n"
          ]
        }
      ]
    },
    {
      "cell_type": "code",
      "source": [
        "''' 13. Write a Python program to find the sum of all even numbers between 1 and 50.'''\n",
        "\n",
        "# Program to find the sum of all even numbers between 1 and 50\n",
        "\n",
        "total = 0\n",
        "for num in range(2, 51, 2):  # Start from 2, step by 2\n",
        "    total += num\n",
        "\n",
        "print(\"Sum of even numbers between 1 and 50:\", total)\n"
      ],
      "metadata": {
        "colab": {
          "base_uri": "https://localhost:8080/"
        },
        "id": "1WGaEezv0b7w",
        "outputId": "c9a8f393-11b5-4de3-915e-0ea9b95b373a"
      },
      "execution_count": 16,
      "outputs": [
        {
          "output_type": "stream",
          "name": "stdout",
          "text": [
            "Sum of even numbers between 1 and 50: 650\n"
          ]
        }
      ]
    },
    {
      "cell_type": "code",
      "source": [
        "''' 14. Write a program to reverse a string using while loop.'''\n",
        "\n",
        "# Program to reverse a string using while loop\n",
        "\n",
        "string = input(\"Enter a string: \")\n",
        "reversed_str = \"\"\n",
        "\n",
        "i = len(string) - 1  # Start from last index\n",
        "while i >= 0:\n",
        "    reversed_str += string[i]\n",
        "    i -= 1\n",
        "\n",
        "print(\"Reversed string:\", reversed_str)\n"
      ],
      "metadata": {
        "colab": {
          "base_uri": "https://localhost:8080/"
        },
        "id": "ALUIGI0d1KWg",
        "outputId": "ae8c3a41-5d11-4a10-c4b3-ed350de7e448"
      },
      "execution_count": 17,
      "outputs": [
        {
          "output_type": "stream",
          "name": "stdout",
          "text": [
            "Enter a string: tushar\n",
            "Reversed string: rahsut\n"
          ]
        }
      ]
    },
    {
      "cell_type": "code",
      "source": [
        "''' 15. Write a Python program to calculate the factorial of a number provided by the user using a while loop.'''\n",
        "\n",
        "# Program to calculate factorial using while loop\n",
        "\n",
        "num = int(input(\"Enter a number: \"))\n",
        "factorial = 1\n",
        "i = 1\n",
        "\n",
        "while i <= num:\n",
        "    factorial *= i\n",
        "    i += 1\n",
        "\n",
        "print(f\"Factorial of {num} is {factorial}\")\n",
        "\n",
        "\n"
      ],
      "metadata": {
        "colab": {
          "base_uri": "https://localhost:8080/"
        },
        "id": "MoO4xWTf1gG_",
        "outputId": "e33f4f4f-3b27-4715-b396-0e8550af75d8"
      },
      "execution_count": 18,
      "outputs": [
        {
          "output_type": "stream",
          "name": "stdout",
          "text": [
            "Enter a number: 5\n",
            "Factorial of 5 is 120\n"
          ]
        }
      ]
    }
  ]
}